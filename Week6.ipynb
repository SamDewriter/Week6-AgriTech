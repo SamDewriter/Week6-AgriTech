{
 "cells": [
  {
   "cell_type": "code",
   "execution_count": 2,
   "metadata": {},
   "outputs": [
    {
     "name": "stdout",
     "output_type": "stream",
     "text": [
      "Collecting pylas\n",
      "  Downloading pylas-0.4.3.tar.gz (31 kB)\n",
      "Requirement already satisfied: numpy in c:\\users\\daud\\anaconda3\\anaconda4\\lib\\site-packages (from pylas) (1.19.2)\n",
      "Building wheels for collected packages: pylas\n",
      "  Building wheel for pylas (setup.py): started\n",
      "  Building wheel for pylas (setup.py): finished with status 'done'\n",
      "  Created wheel for pylas: filename=pylas-0.4.3-py3-none-any.whl size=40358 sha256=f70777b6170136016d39ea7a4156e4c0c2276b0fc5a98d91fcd3d4f00bf5ee34\n",
      "  Stored in directory: c:\\users\\daud\\appdata\\local\\pip\\cache\\wheels\\31\\aa\\42\\9c5371d0292968f9b0d312546a1155f0d1a7d349cf7d871990\n",
      "Successfully built pylas\n",
      "Installing collected packages: pylas\n",
      "Successfully installed pylas-0.4.3\n"
     ]
    },
    {
     "name": "stderr",
     "output_type": "stream",
     "text": [
      "WARNING: You are using pip version 21.2.1; however, version 21.2.4 is available.\n",
      "You should consider upgrading via the 'c:\\users\\daud\\anaconda3\\anaconda4\\python.exe -m pip install --upgrade pip' command.\n"
     ]
    }
   ],
   "source": [
    "!pip install pylas"
   ]
  },
  {
   "cell_type": "code",
   "execution_count": 4,
   "metadata": {},
   "outputs": [
    {
     "name": "stderr",
     "output_type": "stream",
     "text": [
      "'-m' is not recognized as an internal or external command,\n",
      "operable program or batch file.\n"
     ]
    }
   ],
   "source": [
    "!-m pip install --upgrade pip"
   ]
  },
  {
   "cell_type": "code",
   "execution_count": 6,
   "metadata": {},
   "outputs": [
    {
     "name": "stdout",
     "output_type": "stream",
     "text": [
      "Requirement already satisfied: pip in c:\\users\\daud\\anaconda3\\anaconda4\\lib\\site-packages (21.2.1)\n"
     ]
    },
    {
     "name": "stderr",
     "output_type": "stream",
     "text": [
      "WARNING: You are using pip version 21.2.1; however, version 21.2.4 is available.\n",
      "You should consider upgrading via the 'c:\\users\\daud\\anaconda3\\anaconda4\\python.exe -m pip install --upgrade pip' command.\n"
     ]
    }
   ],
   "source": [
    "!pip install pip"
   ]
  },
  {
   "cell_type": "code",
   "execution_count": null,
   "metadata": {},
   "outputs": [],
   "source": []
  }
 ],
 "metadata": {
  "kernelspec": {
   "display_name": "Python 3",
   "language": "python",
   "name": "python3"
  },
  "language_info": {
   "codemirror_mode": {
    "name": "ipython",
    "version": 3
   },
   "file_extension": ".py",
   "mimetype": "text/x-python",
   "name": "python",
   "nbconvert_exporter": "python",
   "pygments_lexer": "ipython3",
   "version": "3.8.5"
  }
 },
 "nbformat": 4,
 "nbformat_minor": 4
}
